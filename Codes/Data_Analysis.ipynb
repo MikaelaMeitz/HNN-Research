#DATA analysis for MainExp.py
#Writen by Mikaela Meitz 

import sys
sys.path.append('..')
import numpy as np
import pandas as pd
import math
from scipy.integrate import odeint
import matplotlib.pyplot as plt
from matplotlib.patches import Circle
import matplotlib.image as mpimg
import os, copy, time, pickle
from urllib.request import urlretrieve
import scipy.integrate
solve_ivp = scipy.integrate.solve_ivp
import os
import json
import time
import torch
import torch.nn as nn
import torch.nn.functional as F
import h5py as h5
import glob
#added by Mikaela Meitz:
from Meitz_utils import get_AMP, get_scale, find_amp_index, integrate_model, get_true_pred 

MAJOR_FOLDER = "04272023-2"
FILES = glob.glob(os.path.join("/global/cfs/cdirs/m3792/mmeitz/dissipative_hnns/", MAJOR_FOLDER,'Experiment.*.pkl'), recursive=True)
FILES.sort()

all_data = {}
for file in FILES:
    i = file.split(".")[-2]
    with open(file ,'rb') as read_file:
        trials = pickle.load(read_file)
    all_data[i] = trials
    
for i in all_data:
    available_js = all_data[i].keys()
    #print(i, available_js)
    
    tpad = 7
    fig = plt.figure(figsize=[10,10], dpi=300)
    #fig, axs = plt.subplots(2,figsize=[10,10], dpi=300)
    
    js = list(all_data[i].keys())
    print('Experiemnt %s array' % i ,js)
    hnn_MSE = []
    dhnn_MSE = []
    mlp_MSE = []
    
    for j in available_js:  #this one
        #print(j)
        mse_hnn = (np.mean(all_data[str(i)][str(j)]["hnn"]["MSE"]))
        hnn_MSE.append(mse_hnn)
        mse_dhnn = (np.mean(all_data[str(i)][str(j)]["dhnn"]["MSE"]))
        dhnn_MSE.append(mse_dhnn)
        mse_mlp = np.mean(all_data[str(i)][str(j)]["mlp"]["MSE"])                      
        mlp_MSE.append(mse_mlp)
        
        print('\t MSE for %s' %j) 
        print('\t HNN:', mse_hnn)
        print('\t DHNN:', mse_dhnn)
        print('\t MLP:', mse_mlp)
        
    
    #plot
    plt.subplot(2,1,1)
    plt.title('MSE for Experiment %s' % i, pad=tpad) 
    plt.xlabel('Trajectory Number') 
    plt.ylabel('Average MSE') 
    plt.plot(js, hnn_MSE, 'og-', label='HNN', markersize = 8)
    plt.plot(js, dhnn_MSE, '^b-', label='D-HNN', markersize = 8)
    plt.plot(js, mlp_MSE, '*r-', label='MLP', markersize = 8)
    plt.legend(fontsize=7, bbox_to_anchor=(0,0))
    #without MLP
    plt.subplot(2,1,2)  
    plt.xlabel('Trajectory Number') 
    plt.ylabel('Average MSE') 
    plt.plot(js, hnn_MSE, 'og-', label='HNN', markersize = 8)
    plt.plot(js, dhnn_MSE, '^b-', label='D-HNN', markersize = 8)


