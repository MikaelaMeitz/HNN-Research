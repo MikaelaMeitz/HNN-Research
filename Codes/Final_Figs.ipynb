{
 "cells": [
  {
   "cell_type": "code",
   "execution_count": 1,
   "id": "21f45fe1-cd6b-4312-8be1-b6f904253cbb",
   "metadata": {},
   "outputs": [],
   "source": [
    "#Plot figures "
   ]
  },
  {
   "cell_type": "code",
   "execution_count": 2,
   "id": "a704bd05-fe48-418f-b4c7-ba0413e405f5",
   "metadata": {},
   "outputs": [],
   "source": [
    "import numpy as np\n",
    "import pandas as pd\n",
    "import math\n",
    "import matplotlib.pyplot as plt\n",
    "from matplotlib.patches import Circle\n",
    "import matplotlib.image as mpimg\n",
    "import os, copy, time, pickle\n",
    "import glob"
   ]
  },
  {
   "cell_type": "code",
   "execution_count": 3,
   "id": "be9ee6bc-db20-4234-aece-658962b31d44",
   "metadata": {},
   "outputs": [
    {
     "name": "stdout",
     "output_type": "stream",
     "text": [
      "[20]\n"
     ]
    },
    {
     "ename": "EOFError",
     "evalue": "Ran out of input",
     "output_type": "error",
     "traceback": [
      "\u001b[0;31m---------------------------------------------------------------------------\u001b[0m",
      "\u001b[0;31mEOFError\u001b[0m                                  Traceback (most recent call last)",
      "Input \u001b[0;32mIn [3]\u001b[0m, in \u001b[0;36m<cell line: 22>\u001b[0;34m()\u001b[0m\n\u001b[1;32m     21\u001b[0m exp_is \u001b[38;5;241m=\u001b[39m []\n\u001b[1;32m     22\u001b[0m \u001b[38;5;28;01mwith\u001b[39;00m \u001b[38;5;28mopen\u001b[39m(exp_is_file ,\u001b[38;5;124m'\u001b[39m\u001b[38;5;124mrb\u001b[39m\u001b[38;5;124m'\u001b[39m) \u001b[38;5;28;01mas\u001b[39;00m read_file:\n\u001b[0;32m---> 23\u001b[0m     trials \u001b[38;5;241m=\u001b[39m \u001b[43mpickle\u001b[49m\u001b[38;5;241;43m.\u001b[39;49m\u001b[43mload\u001b[49m\u001b[43m(\u001b[49m\u001b[43mread_file\u001b[49m\u001b[43m)\u001b[49m\n\u001b[1;32m     24\u001b[0m exp_is \u001b[38;5;241m=\u001b[39m trials\n\u001b[1;32m     26\u001b[0m exp_time \u001b[38;5;241m=\u001b[39m []\n",
      "\u001b[0;31mEOFError\u001b[0m: Ran out of input"
     ]
    }
   ],
   "source": [
    "#import data\n",
    "MAJOR_FOLDER = \"03142023\"\n",
    "###CHANGED TIMES to all TIME in MAIN#####\n",
    "train_js_file = os.path.join(\"/global/cfs/cdirs/m3792/mmeitz/dissipative_hnns/\", MAJOR_FOLDER,'Train_Js_Time.pkl')\n",
    "train_time_file = os.path.join(\"/global/cfs/cdirs/m3792/mmeitz/dissipative_hnns/\", MAJOR_FOLDER,'Train_Times.pkl')\n",
    "exp_is_file = os.path.join(\"/global/cfs/cdirs/m3792/mmeitz/dissipative_hnns/\", MAJOR_FOLDER,'EXP_Is_Times.pkl')\n",
    "exp_time_file = os.path.join(\"/global/cfs/cdirs/m3792/mmeitz/dissipative_hnns/\", MAJOR_FOLDER,'EXP_Times.pkl')\n",
    "\n",
    "#unpack data from pkl\n",
    "train_js = []\n",
    "with open(train_js_file ,'rb') as read_file:\n",
    "    trials = pickle.load(read_file)\n",
    "train_js = trials\n",
    "print(train_js)\n",
    "\n",
    "train_time = []\n",
    "with open(train_time_file ,'rb') as read_file:\n",
    "    trials = pickle.load(read_file)\n",
    "train_time = trials\n",
    "\n",
    "exp_is = []\n",
    "with open(exp_is_file ,'rb') as read_file:\n",
    "    trials = pickle.load(read_file)\n",
    "exp_is = trials\n",
    "\n",
    "exp_time = []\n",
    "with open(exp_time_file ,'rb') as read_file:\n",
    "    trials = pickle.load(read_file)\n",
    "exp_time = trials\n"
   ]
  },
  {
   "cell_type": "code",
   "execution_count": null,
   "id": "dc384362-ab6a-489f-a95b-4dc9dbedcdb1",
   "metadata": {},
   "outputs": [],
   "source": [
    "\n",
    "\n",
    "#plot all training times(note only train on ith traj so each exp should only have one training time)\n",
    "tpad = 7\n",
    "fig = plt.figure(figsize=[10,10], dpi=300) \n",
    "plt.title('Time to Complete Training for Each Experiment', pad=tpad) \n",
    "plt.xlabel('Experiment Number') \n",
    "plt.ylabel('Time (minutes)') \n",
    "plt.plot(train_js, train_time, 'ok-', markersize = 8)\n",
    "plt.savefig(experiment_path, \"All_Training_Time_Fig.png\")\n",
    "plt.close()\n",
    "\n",
    "#plot all experiment times\n",
    "tpad = 7\n",
    "fig = plt.figure(figsize=[10,10], dpi=300) \n",
    "plt.title('Time to Complete All Experiments', pad=tpad) \n",
    "plt.xlabel('Experiment Number') \n",
    "plt.ylabel('Time (minutes)') \n",
    "plt.plot(experiment_is, experiemnt_time, 'ok-', markersize = 8)\n",
    "plt.savefig(experiment_path, \"All_Exp_Time_Fig.png\")\n",
    "plt.close()\n",
    "\n",
    "#plot the average error for MSE for each experiment only, not tirals within experiment \n",
    "js = [] \n",
    "hnn_MSE = []\n",
    "dhnn_MSE = []\n",
    "mlp_MSE = []\n",
    "\n",
    "for i in all_data:\n",
    "\n",
    "    i = str(i).zfill(3)\n",
    "\n",
    "    available_js = all_data[i].keys()\n",
    "\n",
    "    for j in available_js:\n",
    "        j_fill = str(j).zfill(3)\n",
    "        if j_fill==i: \n",
    "            js.append(j_fill)\n",
    "            mse_hnn = (np.mean(all_data[str(i)][str(j)][\"hnn\"][\"MSE\"]))\n",
    "            hnn_MSE.append(mse_hnn)\n",
    "            mse_dhnn = (np.mean(all_data[str(i)][j][\"dhnn\"][\"MSE\"]))\n",
    "            dhnn_MSE.append(mse_dhnn)\n",
    "            mse_mlp = np.mean(all_data[str(i)][j][\"mlp\"][\"MSE\"])                      \n",
    "            mlp_MSE.append(mse_mlp)\n",
    "\n",
    "\n",
    "tpad = 20\n",
    "fig = plt.figure(figsize=[80,40], dpi=300)\n",
    "plt.title('Average MSE for all Experiments', pad=tpad, fontsize=50) \n",
    "plt.xlabel('Experiment Number', fontsize=50) \n",
    "plt.ylabel('Average MSE', fontsize=50) \n",
    "ax = plt.gca()\n",
    "ax.tick_params(axis='both', which='major', labelsize=30)\n",
    "plt.plot(js, hnn_MSE, 'og-', label='HNN', markersize = 20)\n",
    "plt.plot(js, dhnn_MSE, '^b-', label='D-HNN', markersize = 20)\n",
    "plt.plot(js, mlp_MSE, '*r-', label='MLP', markersize = 20)\n",
    "plt.legend(fontsize=50, bbox_to_anchor=(0,0))\n",
    "\n",
    "plt.savefig(os.path.join(os.path.join(\"/global/cfs/cdirs/m3792/mmeitz/dissipative_hnns\", MAJOR_FOLDER), \"Average_MSE_ALL_Fig.png\"))\n",
    "plt.show()"
   ]
  },
  {
   "cell_type": "code",
   "execution_count": null,
   "id": "a33cc5fc-3a43-44bc-93a7-e4e3a96e3d25",
   "metadata": {},
   "outputs": [],
   "source": []
  }
 ],
 "metadata": {
  "kernelspec": {
   "display_name": "MyPyTorch",
   "language": "python",
   "name": "mypytorch"
  },
  "language_info": {
   "codemirror_mode": {
    "name": "ipython",
    "version": 3
   },
   "file_extension": ".py",
   "mimetype": "text/x-python",
   "name": "python",
   "nbconvert_exporter": "python",
   "pygments_lexer": "ipython3",
   "version": "3.9.7"
  }
 },
 "nbformat": 4,
 "nbformat_minor": 5
}
